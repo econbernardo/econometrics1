{
 "cells": [
  {
   "cell_type": "markdown",
   "id": "2eac6bcb",
   "metadata": {},
   "source": [
    "# Problem Set 5"
   ]
  },
  {
   "cell_type": "markdown",
   "id": "60109aa7",
   "metadata": {},
   "source": [
    "# QUESTION 3\n"
   ]
  },
  {
   "cell_type": "code",
   "execution_count": 1,
   "id": "12e90892",
   "metadata": {},
   "outputs": [],
   "source": [
    "from scipy.stats import norm\n",
    "import numpy as np\n",
    "from statsmodels.api import add_constant\n",
    "from linearmodels.iv import IV2SLS\n",
    "import pandas as pd"
   ]
  },
  {
   "cell_type": "code",
   "execution_count": 2,
   "id": "ca8a0480",
   "metadata": {},
   "outputs": [],
   "source": [
    "alpha_1 = 1\n",
    "alpha_2 = 1\n",
    "beta_0 = 1\n",
    "beta_1 = 1\n"
   ]
  },
  {
   "cell_type": "code",
   "execution_count": 3,
   "id": "df6ef1c9",
   "metadata": {},
   "outputs": [],
   "source": [
    "def gen_data(alpha_1, alpha_2, beta_0, beta_1):\n",
    "    # Generating the random variables\n",
    "    v_1 = norm.rvs(size  = 150)\n",
    "    v_2 = norm.rvs(size  = 150)\n",
    "    v_3 = norm.rvs(size  = 150)\n",
    "    z_1 = norm.rvs(size  = 150)\n",
    "    z_2 = norm.rvs(size  = 150)\n",
    "    x = [alpha_1*z_1[i]+alpha_2*z_2[i]+v_1[i]+v_3[i] for i in range(150)]\n",
    "    y = [beta_0+beta_1*x[i]+v_1[i]+v_2[i] for i in range(150)]\n",
    "    data = pd.DataFrame({'y': y, 'x': x, 'z_1':z_1, 'z_2':z_2})\n",
    "    data = add_constant(data, has_constant='add')\n",
    "    return data\n",
    "    \n",
    "    "
   ]
  },
  {
   "cell_type": "code",
   "execution_count": 4,
   "id": "70c31958",
   "metadata": {},
   "outputs": [],
   "source": [
    "df = gen_data(alpha_1, alpha_2, beta_0, beta_1)"
   ]
  },
  {
   "cell_type": "code",
   "execution_count": 5,
   "id": "7611e246",
   "metadata": {},
   "outputs": [
    {
     "name": "stdout",
     "output_type": "stream",
     "text": [
      "   const         y         x       z_1       z_2\n",
      "0    1.0 -0.805169 -0.945782 -1.654548  0.138740\n",
      "1    1.0 -0.658600 -1.140246 -0.613862 -1.492353\n",
      "2    1.0  0.576034 -1.909813  0.269686 -2.316824\n",
      "3    1.0  1.840075  1.639395  1.391587  1.208335\n",
      "4    1.0  3.805184  1.858179  1.497658 -0.510263\n"
     ]
    }
   ],
   "source": [
    "print(df.head())"
   ]
  },
  {
   "cell_type": "code",
   "execution_count": 6,
   "id": "4668a0bf",
   "metadata": {},
   "outputs": [],
   "source": [
    " data = gen_data(alpha_1, alpha_2, beta_0, beta_1)\n",
    "# OLS:\n",
    "res_ols = IV2SLS(data.y, data[['const','x']], None, None).fit(cov_type='unadjusted')\n",
    "# IV:\n",
    "res_iv = IV2SLS(data.y, data[['const']], data.x, data.z_1).fit(cov_type='unadjusted')\n",
    "# 2SLS\n",
    "res_2sls = IV2SLS(data.y, data[['const']], data.x, data[['z_1', 'z_2']]).fit(cov_type='unadjusted')\n",
    "\n"
   ]
  },
  {
   "cell_type": "code",
   "execution_count": 7,
   "id": "9eb9e79f",
   "metadata": {},
   "outputs": [
    {
     "data": {
      "text/plain": [
       "1.1811236553054048"
      ]
     },
     "execution_count": 7,
     "metadata": {},
     "output_type": "execute_result"
    }
   ],
   "source": [
    "res_ols.params['x']"
   ]
  },
  {
   "cell_type": "code",
   "execution_count": 8,
   "id": "a4fb2e5d",
   "metadata": {},
   "outputs": [
    {
     "data": {
      "text/plain": [
       "0.05504860271506086"
      ]
     },
     "execution_count": 8,
     "metadata": {},
     "output_type": "execute_result"
    }
   ],
   "source": [
    "res_ols.std_errors['x']"
   ]
  },
  {
   "cell_type": "code",
   "execution_count": 9,
   "id": "a2ec2558",
   "metadata": {},
   "outputs": [],
   "source": [
    " from linearmodels.iv import compare"
   ]
  },
  {
   "cell_type": "code",
   "execution_count": 10,
   "id": "55b67803",
   "metadata": {},
   "outputs": [
    {
     "name": "stdout",
     "output_type": "stream",
     "text": [
      "                         Model Comparison                        \n",
      "=================================================================\n",
      "                                OLS             IV           2SLS\n",
      "-----------------------------------------------------------------\n",
      "Dep. Variable                     y              y              y\n",
      "Estimator                       OLS        IV-2SLS        IV-2SLS\n",
      "No. Observations                150            150            150\n",
      "Cov. Est.                unadjusted     unadjusted     unadjusted\n",
      "R-squared                    0.7542         0.7261         0.7275\n",
      "Adj. R-squared               0.7526         0.7243         0.7257\n",
      "F-statistic                  460.36         92.073         162.87\n",
      "P-value (F-stat)             0.0000         0.0000         0.0000\n",
      "==================     ============   ============   ============\n",
      "const                        0.8917         0.8757         0.8761\n",
      "                           (7.7392)       (7.1922)       (7.2188)\n",
      "x                            1.1811         0.9531         0.9588\n",
      "                           (21.456)       (9.5955)       (12.762)\n",
      "==================== ============== ============== ==============\n",
      "Instruments                                    z_1            z_1\n",
      "                                                              z_2\n",
      "-----------------------------------------------------------------\n",
      "\n",
      "T-stats reported in parentheses\n"
     ]
    }
   ],
   "source": [
    "print(compare({'OLS':res_ols, 'IV':res_iv, '2SLS': res_2sls}))"
   ]
  },
  {
   "cell_type": "code",
   "execution_count": 11,
   "id": "f484c849",
   "metadata": {},
   "outputs": [],
   "source": [
    "def it_regressions(print_option = False):\n",
    "    data = gen_data(alpha_1, alpha_2, beta_0, beta_1)\n",
    "    # OLS:\n",
    "    res_ols = IV2SLS(data.y, data[['const','x']], None, None).fit(cov_type='unadjusted')\n",
    "    # IV:\n",
    "    res_iv = IV2SLS(data.y, data[['const']], data.x, data.z_1).fit(cov_type='unadjusted')\n",
    "    # 2SLS\n",
    "    res_2sls = IV2SLS(data.y, data[['const']], data.x, data[['z_1', 'z_2']]).fit(cov_type='unadjusted')\n",
    "    if print_option == True:\n",
    "        from linearmodels.iv import compare\n",
    "        print(compare({'OLS':res_ols, 'IV':res_iv, '2SLS': res_2sls}))\n",
    "    return {'ols': [res_ols.params['x'], res_ols.std_errors['x']],\n",
    "           'iv':[res_iv.params['x'], res_iv.std_errors['x']],\n",
    "           '2sls':[res_2sls.params['x'], res_2sls.std_errors['x']]}\n",
    "    \n",
    "    "
   ]
  },
  {
   "cell_type": "markdown",
   "id": "6a011112",
   "metadata": {},
   "source": [
    "Now we do our simulations."
   ]
  },
  {
   "cell_type": "code",
   "execution_count": 12,
   "id": "14d19f84",
   "metadata": {},
   "outputs": [],
   "source": [
    "def simulations(iter = 1000):\n",
    "    keys = ['ols', 'iv', '2sls']\n",
    "    acc_dict = {key: {'beta':[], 'std': []} for key in keys}\n",
    "    for sim in range(iter):\n",
    "        if sim%100==0:\n",
    "            print(str(round(sim/iter,4)*100)+\"%\")\n",
    "        iter_dict = it_regressions()\n",
    "        for key in acc_dict.keys():\n",
    "            acc_dict[key]['beta'].append(iter_dict[key][0])\n",
    "            acc_dict[key]['std'].append(iter_dict[key][1])\n",
    "    print(\"Simulations concluded\")\n",
    "    return acc_dict\n",
    "        \n",
    "    "
   ]
  },
  {
   "cell_type": "code",
   "execution_count": 13,
   "id": "3c40f07a",
   "metadata": {},
   "outputs": [
    {
     "name": "stdout",
     "output_type": "stream",
     "text": [
      "0.0%\n",
      "10.0%\n",
      "20.0%\n",
      "30.0%\n",
      "40.0%\n",
      "50.0%\n",
      "60.0%\n",
      "70.0%\n",
      "80.0%\n",
      "90.0%\n",
      "Simulations concluded\n"
     ]
    }
   ],
   "source": [
    "results = simulations()"
   ]
  },
  {
   "cell_type": "code",
   "execution_count": 14,
   "id": "8c58335e",
   "metadata": {},
   "outputs": [],
   "source": [
    "OLS_results = pd.DataFrame(results['ols'])\n",
    "IV_results = pd.DataFrame(results['iv'])\n",
    "_2SLS_results = pd.DataFrame(results['ols'])"
   ]
  },
  {
   "cell_type": "markdown",
   "id": "a7cddc3b",
   "metadata": {},
   "source": [
    "## (a)"
   ]
  },
  {
   "cell_type": "code",
   "execution_count": 15,
   "id": "c2699406",
   "metadata": {},
   "outputs": [
    {
     "name": "stdout",
     "output_type": "stream",
     "text": [
      "              beta          std\n",
      "count  1000.000000  1000.000000\n",
      "mean      1.251243     0.053981\n",
      "std       0.056498     0.004429\n",
      "min       1.068516     0.040227\n",
      "25%       1.213901     0.051044\n",
      "50%       1.251542     0.053927\n",
      "75%       1.290737     0.056687\n",
      "max       1.413737     0.072789\n"
     ]
    }
   ],
   "source": [
    "print(OLS_results.describe())"
   ]
  },
  {
   "cell_type": "markdown",
   "id": "17c8a6d7",
   "metadata": {},
   "source": [
    "It is consistent for some estimate, but not for the true $\\beta_1$. The mean of the estimates is far away from 1! This happens because our model suffers from endogeneity:"
   ]
  },
  {
   "cell_type": "markdown",
   "id": "6df6e00b",
   "metadata": {},
   "source": [
    "$$\n",
    "\\begin{aligned}\n",
    "y_{i} &=\\beta_{0}+\\beta_{1} x_{i}+v_{1 i}+v_{2 i} \\quad \\quad(\\star) \\\\\n",
    "x_{i} &=\\alpha_{1} z_{1 i}+\\alpha_{2} z_{2 i}+v_{1 i}+v_{3 i}\\quad\\quad (\\star\\star)\n",
    "\\end{aligned}\n",
    "$$"
   ]
  },
  {
   "cell_type": "markdown",
   "id": "0466375a",
   "metadata": {},
   "source": [
    "$$\\mathbb{E}[x_i\\cdot (v_{1i}+v_{2i}) ]\\neq 0$$"
   ]
  },
  {
   "cell_type": "markdown",
   "id": "2e9c9b68",
   "metadata": {},
   "source": [
    "because of $v_{1i}$."
   ]
  },
  {
   "cell_type": "markdown",
   "id": "a991568c",
   "metadata": {},
   "source": [
    "## (b)"
   ]
  },
  {
   "cell_type": "code",
   "execution_count": 16,
   "id": "9a25a663",
   "metadata": {},
   "outputs": [
    {
     "name": "stdout",
     "output_type": "stream",
     "text": [
      "              beta          std\n",
      "count  1000.000000  1000.000000\n",
      "mean      0.998320     0.118471\n",
      "std       0.120387     0.024698\n",
      "min       0.526798     0.072770\n",
      "25%       0.922595     0.101330\n",
      "50%       1.001126     0.114017\n",
      "75%       1.083941     0.130373\n",
      "max       1.317158     0.254597\n"
     ]
    }
   ],
   "source": [
    "print(IV_results.describe())"
   ]
  },
  {
   "cell_type": "markdown",
   "id": "e86b14dd",
   "metadata": {},
   "source": [
    "Now we have a consistent estimator, since the requirements of the IV (exclusion restriction and relevance) are met in our data generating process:\n",
    "\n",
    "(a) $z_1$ is independent from the error terms\n",
    "\n",
    "(b) $z_1$ is correlated with $x$ in ($\\star\\star$) above"
   ]
  },
  {
   "cell_type": "markdown",
   "id": "92aee1c7",
   "metadata": {},
   "source": [
    "## (c)"
   ]
  },
  {
   "cell_type": "code",
   "execution_count": 17,
   "id": "a72396a9",
   "metadata": {},
   "outputs": [
    {
     "name": "stdout",
     "output_type": "stream",
     "text": [
      "              beta          std\n",
      "count  1000.000000  1000.000000\n",
      "mean      1.251243     0.053981\n",
      "std       0.056498     0.004429\n",
      "min       1.068516     0.040227\n",
      "25%       1.213901     0.051044\n",
      "50%       1.251542     0.053927\n",
      "75%       1.290737     0.056687\n",
      "max       1.413737     0.072789\n"
     ]
    }
   ],
   "source": [
    "print(_2SLS_results.describe())"
   ]
  },
  {
   "cell_type": "markdown",
   "id": "27921f58",
   "metadata": {},
   "source": [
    "Indeed, our estimator remains consistent since the same reasoning pointed out above also extends to $z_2$."
   ]
  },
  {
   "cell_type": "markdown",
   "id": "278c02ea",
   "metadata": {},
   "source": [
    "However, it is clear that the standard deviations of the $\\hat \\beta_{1,2SLS}$ are usually below the ones from $\\hat \\beta_{1,IV}$. This can be seen by comparing the means or the quantiles between these series of estimated standard errors."
   ]
  },
  {
   "cell_type": "markdown",
   "id": "014ad640",
   "metadata": {},
   "source": [
    "The intuition can be seen from Question 2:"
   ]
  },
  {
   "cell_type": "markdown",
   "id": "905bac48",
   "metadata": {},
   "source": [
    "$$avar(b_{IV}) = \\frac{2}{\\alpha_1^2}$$"
   ]
  },
  {
   "cell_type": "markdown",
   "id": "07746106",
   "metadata": {},
   "source": [
    "$$avar(b_{2SLS}) = \\frac{2}{\\alpha_1^2+\\alpha_2^2}$$"
   ]
  },
  {
   "cell_type": "markdown",
   "id": "3e93e19b",
   "metadata": {},
   "source": [
    "In our case, $\\alpha_2>0$ (i.e., the new instrument is relevant) and intuitively the additional instrument is able to generate additional variation in $x$ which can make the parameters estimations more precise."
   ]
  },
  {
   "cell_type": "markdown",
   "id": "013e3580",
   "metadata": {},
   "source": [
    "## (d)"
   ]
  },
  {
   "cell_type": "code",
   "execution_count": 18,
   "id": "c46cbefe",
   "metadata": {},
   "outputs": [],
   "source": [
    "def gen_data(alpha_1, alpha_2, beta_0, beta_1):\n",
    "    # Generating the random variables\n",
    "    v_1 = norm.rvs(size  = 150)\n",
    "    v_2 = norm.rvs(size  = 150)\n",
    "    v_3 = norm.rvs(size  = 150)\n",
    "    z_1 = norm.rvs(size  = 150)\n",
    "    z_2 = norm.rvs(size  = 150)\n",
    "    z_3 = norm.rvs(size  = 150)\n",
    "    x = [alpha_1*z_1[i]+alpha_2*z_2[i]+v_1[i]+v_3[i] for i in range(150)]\n",
    "    y = [beta_0+beta_1*x[i]+v_1[i]+v_2[i] for i in range(150)]\n",
    "    data = pd.DataFrame({'y': y, 'x': x, 'z_1':z_1, 'z_2':z_2, 'z_3':z_3})\n",
    "    data = add_constant(data, has_constant='add')\n",
    "    return data"
   ]
  },
  {
   "cell_type": "code",
   "execution_count": 19,
   "id": "3356c630",
   "metadata": {},
   "outputs": [],
   "source": [
    "def it_regressions(print_option = False):\n",
    "    data = gen_data(alpha_1, alpha_2, beta_0, beta_1)\n",
    "    # OLS:\n",
    "    res_ols = IV2SLS(data.y, data[['const','x']], None, None).fit(cov_type='unadjusted')\n",
    "    # IV:\n",
    "    res_iv = IV2SLS(data.y, data[['const']], data.x, data.z_1).fit(cov_type='unadjusted')\n",
    "    # 2SLS\n",
    "    res_2sls = IV2SLS(data.y, data[['const']], data.x, data[['z_1', 'z_2','z_3']]).fit(cov_type='unadjusted')\n",
    "    if print_option == True:\n",
    "        from linearmodels.iv import compare\n",
    "        print(compare({'OLS':res_ols, 'IV':res_iv, '2SLS': res_2sls}))\n",
    "    return {'ols': [res_ols.params['x'], res_ols.std_errors['x']],\n",
    "           'iv':[res_iv.params['x'], res_iv.std_errors['x']],\n",
    "           '2sls':[res_2sls.params['x'], res_2sls.std_errors['x']]}"
   ]
  },
  {
   "cell_type": "code",
   "execution_count": 20,
   "id": "5e0e5fda",
   "metadata": {},
   "outputs": [],
   "source": [
    "def simulations(iter = 1000):\n",
    "    keys = ['ols', 'iv', '2sls']\n",
    "    acc_dict = {key: {'beta':[], 'std': []} for key in keys}\n",
    "    for sim in range(iter):\n",
    "        if sim%100==0:\n",
    "            print(str(round(sim/iter,4)*100)+\"%\")\n",
    "        iter_dict = it_regressions()\n",
    "        for key in acc_dict.keys():\n",
    "            acc_dict[key]['beta'].append(iter_dict[key][0])\n",
    "            acc_dict[key]['std'].append(iter_dict[key][1])\n",
    "    print(\"Simulations concluded\")\n",
    "    return acc_dict"
   ]
  },
  {
   "cell_type": "code",
   "execution_count": 21,
   "id": "55b840d7",
   "metadata": {},
   "outputs": [
    {
     "name": "stdout",
     "output_type": "stream",
     "text": [
      "0.0%\n",
      "10.0%\n",
      "20.0%\n",
      "30.0%\n",
      "40.0%\n",
      "50.0%\n",
      "60.0%\n",
      "70.0%\n",
      "80.0%\n",
      "90.0%\n",
      "Simulations concluded\n"
     ]
    }
   ],
   "source": [
    "results = simulations()"
   ]
  },
  {
   "cell_type": "code",
   "execution_count": 22,
   "id": "f3802e66",
   "metadata": {},
   "outputs": [
    {
     "name": "stdout",
     "output_type": "stream",
     "text": [
      "----------------------------------------\n",
      "ols\n",
      "              beta          std\n",
      "count  1000.000000  1000.000000\n",
      "mean      1.250989     0.053814\n",
      "std       0.053005     0.004388\n",
      "min       1.080747     0.042221\n",
      "25%       1.213918     0.050813\n",
      "50%       1.252213     0.053443\n",
      "75%       1.285866     0.056555\n",
      "max       1.444873     0.069628\n",
      "----------------------------------------\n",
      "iv\n",
      "              beta          std\n",
      "count  1000.000000  1000.000000\n",
      "mean      0.998621     0.120014\n",
      "std       0.124740     0.028074\n",
      "min       0.483685     0.070463\n",
      "25%       0.921050     0.102216\n",
      "50%       1.001021     0.114871\n",
      "75%       1.085029     0.130328\n",
      "max       1.340586     0.351058\n",
      "----------------------------------------\n",
      "2sls\n",
      "              beta          std\n",
      "count  1000.000000  1000.000000\n",
      "mean      1.007363     0.081461\n",
      "std       0.086018     0.011683\n",
      "min       0.595300     0.058719\n",
      "25%       0.956783     0.073499\n",
      "50%       1.014256     0.080251\n",
      "75%       1.069970     0.087561\n",
      "max       1.246427     0.150672\n"
     ]
    }
   ],
   "source": [
    "for estimator in results.keys():\n",
    "    print(\"-\"*40)\n",
    "    print(estimator)\n",
    "    print(pd.DataFrame(results[estimator]).describe())"
   ]
  },
  {
   "cell_type": "markdown",
   "id": "f4b0ba0e",
   "metadata": {},
   "source": [
    "The estimator is still consistent, but this additional instrument does not help us estimating the parameter more precisely."
   ]
  },
  {
   "cell_type": "markdown",
   "id": "4ac982a5",
   "metadata": {},
   "source": [
    "The standard errors even increase a little in this new simulations."
   ]
  },
  {
   "cell_type": "markdown",
   "id": "b9d1148c",
   "metadata": {},
   "source": [
    "## (e)"
   ]
  },
  {
   "cell_type": "code",
   "execution_count": 23,
   "id": "5f175526",
   "metadata": {},
   "outputs": [],
   "source": [
    "def gen_data(alpha_1, alpha_2, beta_0, beta_1):\n",
    "    # Generating the random variables\n",
    "    v_1 = norm.rvs(size  = 150)\n",
    "    v_2 = norm.rvs(size  = 150)\n",
    "    v_3 = norm.rvs(size  = 150)\n",
    "    z_1 = norm.rvs(size  = 150)\n",
    "    z_2 = norm.rvs(size  = 150)\n",
    "    other_z = pd.DataFrame({'z_'+str(i):norm.rvs(size  = 150) for i in range(3,101)})\n",
    "    x = [alpha_1*z_1[i]+alpha_2*z_2[i]+v_1[i]+v_3[i] for i in range(150)]\n",
    "    y = [beta_0+beta_1*x[i]+v_1[i]+v_2[i] for i in range(150)]\n",
    "    data = pd.DataFrame({'y': y, 'x': x, 'z_1':z_1, 'z_2':z_2})\n",
    "    data = data.join(other_z)\n",
    "    data = add_constant(data, has_constant='add')\n",
    "    return data"
   ]
  },
  {
   "cell_type": "code",
   "execution_count": 24,
   "id": "9d25cd47",
   "metadata": {},
   "outputs": [],
   "source": [
    "test = gen_data(alpha_1, alpha_2, beta_0, beta_1)"
   ]
  },
  {
   "cell_type": "code",
   "execution_count": 25,
   "id": "d1582f7b",
   "metadata": {},
   "outputs": [
    {
     "name": "stdout",
     "output_type": "stream",
     "text": [
      "   const         y         x       z_1       z_2       z_3       z_4  \\\n",
      "0    1.0 -0.452898 -1.789184 -0.991526  1.371963  2.086260  0.389359   \n",
      "1    1.0  0.675134 -1.122834  0.236801  0.428373  1.305977 -0.320490   \n",
      "2    1.0  1.718230  0.627014  2.542687 -0.373177 -0.806005 -1.207907   \n",
      "3    1.0  3.246388  1.464607 -1.155952  0.477059 -0.055876  1.955305   \n",
      "4    1.0 -2.358393 -2.777103 -0.697477  0.169532  0.341173 -2.017191   \n",
      "\n",
      "        z_5       z_6       z_7  ...      z_91      z_92      z_93      z_94  \\\n",
      "0  0.235034  0.245404 -1.068295  ... -0.404136  0.389818 -0.751230 -0.471450   \n",
      "1  1.138615  0.722822  0.392421  ...  0.232444 -0.430372  0.063107  1.205812   \n",
      "2  0.272768 -0.403985  0.502663  ...  0.801790  0.624558 -0.093117  0.423408   \n",
      "3 -1.401899  0.551299 -0.684843  ...  1.129216  0.239434 -0.636643 -0.867949   \n",
      "4 -0.490042 -0.336822 -0.072648  ... -0.322140  0.211121 -0.486757 -0.451790   \n",
      "\n",
      "       z_95      z_96      z_97      z_98      z_99     z_100  \n",
      "0 -0.683896 -0.147695 -1.167688  1.545690  1.001062  0.704432  \n",
      "1 -0.259637  0.758076  1.021155 -0.841040 -0.852223  1.886653  \n",
      "2  1.077139 -2.248814 -0.911476  0.098345  1.498057  0.295419  \n",
      "3 -0.523101 -0.522306 -0.527072 -0.649997  1.246191 -0.729619  \n",
      "4  0.115373 -1.530507  0.267466 -1.790530  0.806667 -1.741868  \n",
      "\n",
      "[5 rows x 103 columns]\n"
     ]
    }
   ],
   "source": [
    "print(test.head())"
   ]
  },
  {
   "cell_type": "code",
   "execution_count": 26,
   "id": "60ec2416",
   "metadata": {},
   "outputs": [],
   "source": [
    "def it_regressions(print_option = False):\n",
    "    data = gen_data(alpha_1, alpha_2, beta_0, beta_1)\n",
    "    instruments = data.drop(columns = {'const', 'x', 'y'})\n",
    "    # OLS:\n",
    "    res_ols = IV2SLS(data.y, data[['const','x']], None, None).fit(cov_type='unadjusted')\n",
    "    # IV:\n",
    "    res_iv = IV2SLS(data.y, data[['const']], data.x, data.z_1).fit(cov_type='unadjusted')\n",
    "    # 2SLS\n",
    "    res_2sls = IV2SLS(data.y, data[['const']], data.x, instruments).fit(cov_type='unadjusted')\n",
    "    if print_option == True:\n",
    "        from linearmodels.iv import compare\n",
    "        print(compare({'OLS':res_ols, 'IV':res_iv, '2SLS': res_2sls}))\n",
    "    return {'ols': [res_ols.params['x'], res_ols.std_errors['x']],\n",
    "           'iv':[res_iv.params['x'], res_iv.std_errors['x']],\n",
    "           '2sls':[res_2sls.params['x'], res_2sls.std_errors['x']]}"
   ]
  },
  {
   "cell_type": "code",
   "execution_count": 27,
   "id": "237770cc",
   "metadata": {},
   "outputs": [
    {
     "data": {
      "text/plain": [
       "{'ols': [1.253080666676579, 0.054059324335460415],\n",
       " 'iv': [0.9355385195645782, 0.12565985806448549],\n",
       " '2sls': [1.2245165140985343, 0.058226114131580485]}"
      ]
     },
     "execution_count": 27,
     "metadata": {},
     "output_type": "execute_result"
    }
   ],
   "source": [
    "it_regressions(print_option = False)"
   ]
  },
  {
   "cell_type": "code",
   "execution_count": 28,
   "id": "7af6743a",
   "metadata": {},
   "outputs": [],
   "source": [
    "def simulations(iter = 1000):\n",
    "    keys = ['ols', 'iv', '2sls']\n",
    "    acc_dict = {key: {'beta':[], 'std': []} for key in keys}\n",
    "    for sim in range(iter):\n",
    "        if sim%100==0:\n",
    "            print(str(round(sim/iter,4)*100)+\"%\")\n",
    "        iter_dict = it_regressions()\n",
    "        for key in acc_dict.keys():\n",
    "            acc_dict[key]['beta'].append(iter_dict[key][0])\n",
    "            acc_dict[key]['std'].append(iter_dict[key][1])\n",
    "    print(\"Simulations concluded\")\n",
    "    return acc_dict"
   ]
  },
  {
   "cell_type": "code",
   "execution_count": 29,
   "id": "079fc1bc",
   "metadata": {},
   "outputs": [
    {
     "name": "stdout",
     "output_type": "stream",
     "text": [
      "0.0%\n",
      "10.0%\n",
      "20.0%\n",
      "30.0%\n",
      "40.0%\n",
      "50.0%\n",
      "60.0%\n",
      "70.0%\n",
      "80.0%\n",
      "90.0%\n",
      "Simulations concluded\n"
     ]
    }
   ],
   "source": [
    "results = simulations()"
   ]
  },
  {
   "cell_type": "code",
   "execution_count": 30,
   "id": "5729020d",
   "metadata": {},
   "outputs": [
    {
     "name": "stdout",
     "output_type": "stream",
     "text": [
      "----------------------------------------\n",
      "ols\n",
      "              beta          std\n",
      "count  1000.000000  1000.000000\n",
      "mean      1.249730     0.054128\n",
      "std       0.055333     0.004624\n",
      "min       1.087181     0.041515\n",
      "25%       1.211381     0.050804\n",
      "50%       1.252187     0.053911\n",
      "75%       1.286977     0.057358\n",
      "max       1.451272     0.071547\n",
      "----------------------------------------\n",
      "iv\n",
      "              beta          std\n",
      "count  1000.000000  1000.000000\n",
      "mean      0.992294     0.120304\n",
      "std       0.125769     0.025066\n",
      "min       0.528652     0.072988\n",
      "25%       0.911478     0.102470\n",
      "50%       0.997922     0.116954\n",
      "75%       1.078165     0.133838\n",
      "max       1.359625     0.261432\n",
      "----------------------------------------\n",
      "2sls\n",
      "              beta          std\n",
      "count  1000.000000  1000.000000\n",
      "mean      1.200083     0.059596\n",
      "std       0.060769     0.005572\n",
      "min       1.005973     0.045201\n",
      "25%       1.159038     0.055582\n",
      "50%       1.200460     0.059216\n",
      "75%       1.241358     0.063045\n",
      "max       1.392079     0.079846\n"
     ]
    }
   ],
   "source": [
    "for estimator in results.keys():\n",
    "    print(\"-\"*40)\n",
    "    print(estimator)\n",
    "    print(pd.DataFrame(results[estimator]).describe())"
   ]
  },
  {
   "cell_type": "markdown",
   "id": "2d338768",
   "metadata": {},
   "source": [
    "The estimators for $\\hat \\beta_{1,2SLS}$ seem to diverge from the true value in mean and in distribution. For example, the 25% quantile is at $1.16$. The estimations precision did not change much, as we would expect: adding irrelevant estimators does not help reducing the variance."
   ]
  }
 ],
 "metadata": {
  "kernelspec": {
   "display_name": "Python 3",
   "language": "python",
   "name": "python3"
  },
  "language_info": {
   "codemirror_mode": {
    "name": "ipython",
    "version": 3
   },
   "file_extension": ".py",
   "mimetype": "text/x-python",
   "name": "python",
   "nbconvert_exporter": "python",
   "pygments_lexer": "ipython3",
   "version": "3.8.8"
  }
 },
 "nbformat": 4,
 "nbformat_minor": 5
}

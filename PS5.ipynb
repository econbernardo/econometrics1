{
 "cells": [
  {
   "cell_type": "markdown",
   "id": "2eac6bcb",
   "metadata": {},
   "source": [
    "# Problem Set 5"
   ]
  },
  {
   "cell_type": "markdown",
   "id": "60109aa7",
   "metadata": {},
   "source": [
    "# QUESTION 3\n"
   ]
  },
  {
   "cell_type": "code",
   "execution_count": 1,
   "id": "12e90892",
   "metadata": {},
   "outputs": [],
   "source": [
    "from scipy.stats import norm\n",
    "import numpy as np\n",
    "from statsmodels.api import add_constant\n",
    "from linearmodels.iv import IV2SLS\n",
    "import pandas as pd"
   ]
  },
  {
   "cell_type": "code",
   "execution_count": 2,
   "id": "ca8a0480",
   "metadata": {},
   "outputs": [],
   "source": [
    "alpha_1 = 1\n",
    "alpha_2 = 1\n",
    "beta_0 = 1\n",
    "beta_1 = 1\n"
   ]
  },
  {
   "cell_type": "code",
   "execution_count": 3,
   "id": "df6ef1c9",
   "metadata": {},
   "outputs": [],
   "source": [
    "def gen_data(alpha_1, alpha_2, beta_0, beta_1):\n",
    "    # Generating the random variables\n",
    "    v_1 = norm.rvs(size  = 150)\n",
    "    v_2 = norm.rvs(size  = 150)\n",
    "    v_3 = norm.rvs(size  = 150)\n",
    "    z_1 = norm.rvs(size  = 150)\n",
    "    z_2 = norm.rvs(size  = 150)\n",
    "    x = [alpha_1*z_1[i]+alpha_2*z_2[i]+v_1[i]+v_3[i] for i in range(150)]\n",
    "    y = [beta_0+beta_1*x[i]+v_1[i]+v_2[i] for i in range(150)]\n",
    "    data = pd.DataFrame({'y': y, 'x': x, 'z_1':z_1, 'z_2':z_2})\n",
    "    data = add_constant(data, has_constant='add')\n",
    "    return data\n",
    "    \n",
    "    "
   ]
  },
  {
   "cell_type": "code",
   "execution_count": 4,
   "id": "70c31958",
   "metadata": {},
   "outputs": [],
   "source": [
    "df = gen_data(alpha_1, alpha_2, beta_0, beta_1)"
   ]
  },
  {
   "cell_type": "code",
   "execution_count": 5,
   "id": "7611e246",
   "metadata": {},
   "outputs": [
    {
     "name": "stdout",
     "output_type": "stream",
     "text": [
      "   const         y         x       z_1       z_2\n",
      "0    1.0  3.682892  0.531768  0.357804 -1.250682\n",
      "1    1.0  2.944834  0.649838 -1.060947  0.881529\n",
      "2    1.0 -4.602047 -2.875818 -1.570189 -0.548478\n",
      "3    1.0  4.466517  1.782875 -0.497630 -0.437629\n",
      "4    1.0  9.218863  2.833364 -0.754017  1.013377\n"
     ]
    }
   ],
   "source": [
    "print(df.head())"
   ]
  },
  {
   "cell_type": "code",
   "execution_count": 6,
   "id": "4668a0bf",
   "metadata": {},
   "outputs": [],
   "source": [
    " data = gen_data(alpha_1, alpha_2, beta_0, beta_1)\n",
    "# OLS:\n",
    "res_ols = IV2SLS(data.y, data[['const','x']], None, None).fit(cov_type='unadjusted')\n",
    "# IV:\n",
    "res_iv = IV2SLS(data.y, data[['const']], data.x, data.z_1).fit(cov_type='unadjusted')\n",
    "# 2SLS\n",
    "res_2sls = IV2SLS(data.y, data[['const']], data.x, data[['z_1', 'z_2']]).fit(cov_type='unadjusted')\n",
    "\n"
   ]
  },
  {
   "cell_type": "code",
   "execution_count": 7,
   "id": "9eb9e79f",
   "metadata": {},
   "outputs": [
    {
     "data": {
      "text/plain": [
       "1.2597542745333117"
      ]
     },
     "execution_count": 7,
     "metadata": {},
     "output_type": "execute_result"
    }
   ],
   "source": [
    "res_ols.params['x']"
   ]
  },
  {
   "cell_type": "code",
   "execution_count": 8,
   "id": "a4fb2e5d",
   "metadata": {},
   "outputs": [
    {
     "data": {
      "text/plain": [
       "0.05002880344665273"
      ]
     },
     "execution_count": 8,
     "metadata": {},
     "output_type": "execute_result"
    }
   ],
   "source": [
    "res_ols.std_errors['x']"
   ]
  },
  {
   "cell_type": "code",
   "execution_count": 9,
   "id": "a2ec2558",
   "metadata": {},
   "outputs": [],
   "source": [
    " from linearmodels.iv import compare"
   ]
  },
  {
   "cell_type": "code",
   "execution_count": 10,
   "id": "55b67803",
   "metadata": {},
   "outputs": [
    {
     "name": "stdout",
     "output_type": "stream",
     "text": [
      "                         Model Comparison                        \n",
      "=================================================================\n",
      "                                OLS             IV           2SLS\n",
      "-----------------------------------------------------------------\n",
      "Dep. Variable                     y              y              y\n",
      "Estimator                       OLS        IV-2SLS        IV-2SLS\n",
      "No. Observations                150            150            150\n",
      "Cov. Est.                unadjusted     unadjusted     unadjusted\n",
      "R-squared                    0.8087         0.7865         0.7645\n",
      "Adj. R-squared               0.8074         0.7850         0.7629\n",
      "F-statistic                  634.06         110.45         144.09\n",
      "P-value (F-stat)             0.0000         0.0000         0.0000\n",
      "==================     ============   ============   ============\n",
      "const                        0.9385         0.9297         0.9261\n",
      "                           (9.4219)       (8.8297)       (8.3778)\n",
      "x                            1.2598         1.0510         0.9653\n",
      "                           (25.181)       (10.509)       (12.004)\n",
      "==================== ============== ============== ==============\n",
      "Instruments                                    z_1            z_1\n",
      "                                                              z_2\n",
      "-----------------------------------------------------------------\n",
      "\n",
      "T-stats reported in parentheses\n"
     ]
    }
   ],
   "source": [
    "print(compare({'OLS':res_ols, 'IV':res_iv, '2SLS': res_2sls}))"
   ]
  },
  {
   "cell_type": "code",
   "execution_count": 11,
   "id": "f484c849",
   "metadata": {},
   "outputs": [],
   "source": [
    "def it_regressions(print_option = False):\n",
    "    data = gen_data(alpha_1, alpha_2, beta_0, beta_1)\n",
    "    # OLS:\n",
    "    res_ols = IV2SLS(data.y, data[['const','x']], None, None).fit(cov_type='unadjusted')\n",
    "    # IV:\n",
    "    res_iv = IV2SLS(data.y, data[['const']], data.x, data.z_1).fit(cov_type='unadjusted')\n",
    "    # 2SLS\n",
    "    res_2sls = IV2SLS(data.y, data[['const']], data.x, data[['z_1', 'z_2']]).fit(cov_type='unadjusted')\n",
    "    if print_option == True:\n",
    "        from linearmodels.iv import compare\n",
    "        print(compare({'OLS':res_ols, 'IV':res_iv, '2SLS': res_2sls}))\n",
    "    return {'ols': [res_ols.params['x'], res_ols.std_errors['x']],\n",
    "           'iv':[res_iv.params['x'], res_iv.std_errors['x']],\n",
    "           '2sls':[res_2sls.params['x'], res_2sls.std_errors['x']]}\n",
    "    \n",
    "    "
   ]
  },
  {
   "cell_type": "markdown",
   "id": "6a011112",
   "metadata": {},
   "source": [
    "Now we do our simulations."
   ]
  },
  {
   "cell_type": "code",
   "execution_count": 12,
   "id": "14d19f84",
   "metadata": {},
   "outputs": [],
   "source": [
    "def simulations(iter = 1000):\n",
    "    keys = ['ols', 'iv', '2sls']\n",
    "    acc_dict = {key: {'beta':[], 'std': []} for key in keys}\n",
    "    for sim in range(iter):\n",
    "        if sim%100==0:\n",
    "            print(str(round(sim/iter,4)*100)+\"%\")\n",
    "        iter_dict = it_regressions()\n",
    "        for key in acc_dict.keys():\n",
    "            acc_dict[key]['beta'].append(iter_dict[key][0])\n",
    "            acc_dict[key]['std'].append(iter_dict[key][1])\n",
    "    print(\"Simulations concluded\")\n",
    "    return acc_dict\n",
    "        \n",
    "    "
   ]
  },
  {
   "cell_type": "code",
   "execution_count": 13,
   "id": "3c40f07a",
   "metadata": {},
   "outputs": [
    {
     "name": "stdout",
     "output_type": "stream",
     "text": [
      "0.0%\n",
      "10.0%\n",
      "20.0%\n",
      "30.0%\n",
      "40.0%\n",
      "50.0%\n",
      "60.0%\n",
      "70.0%\n",
      "80.0%\n",
      "90.0%\n",
      "Simulations concluded\n"
     ]
    }
   ],
   "source": [
    "results = simulations()"
   ]
  },
  {
   "cell_type": "code",
   "execution_count": 14,
   "id": "8c58335e",
   "metadata": {},
   "outputs": [],
   "source": [
    "OLS_results = pd.DataFrame(results['ols'])\n",
    "IV_results = pd.DataFrame(results['iv'])\n",
    "_2SLS_results = pd.DataFrame(results['2sls'])"
   ]
  },
  {
   "cell_type": "markdown",
   "id": "a7cddc3b",
   "metadata": {},
   "source": [
    "## (a)"
   ]
  },
  {
   "cell_type": "code",
   "execution_count": 15,
   "id": "c2699406",
   "metadata": {},
   "outputs": [
    {
     "name": "stdout",
     "output_type": "stream",
     "text": [
      "              beta          std\n",
      "count  1000.000000  1000.000000\n",
      "mean      1.249438     0.053995\n",
      "std       0.056004     0.004458\n",
      "min       1.076705     0.041925\n",
      "25%       1.213479     0.051004\n",
      "50%       1.247786     0.053872\n",
      "75%       1.287006     0.056968\n",
      "max       1.422150     0.070218\n"
     ]
    }
   ],
   "source": [
    "print(OLS_results.describe())"
   ]
  },
  {
   "cell_type": "markdown",
   "id": "17c8a6d7",
   "metadata": {},
   "source": [
    "It is consistent for some estimate, but not for the true $\\beta_1$. The mean of the estimates is far away from 1! This happens because our model suffers from endogeneity:"
   ]
  },
  {
   "cell_type": "markdown",
   "id": "6df6e00b",
   "metadata": {},
   "source": [
    "$$\n",
    "\\begin{aligned}\n",
    "y_{i} &=\\beta_{0}+\\beta_{1} x_{i}+v_{1 i}+v_{2 i} \\quad \\quad(\\star) \\\\\n",
    "x_{i} &=\\alpha_{1} z_{1 i}+\\alpha_{2} z_{2 i}+v_{1 i}+v_{3 i}\\quad\\quad (\\star\\star)\n",
    "\\end{aligned}\n",
    "$$"
   ]
  },
  {
   "cell_type": "markdown",
   "id": "0466375a",
   "metadata": {},
   "source": [
    "$$\\mathbb{E}[x_i\\cdot (v_{1i}+v_{2i}) ]\\neq 0$$"
   ]
  },
  {
   "cell_type": "markdown",
   "id": "2e9c9b68",
   "metadata": {},
   "source": [
    "because of $v_{1i}$."
   ]
  },
  {
   "cell_type": "markdown",
   "id": "a991568c",
   "metadata": {},
   "source": [
    "## (b)"
   ]
  },
  {
   "cell_type": "code",
   "execution_count": 16,
   "id": "9a25a663",
   "metadata": {},
   "outputs": [
    {
     "name": "stdout",
     "output_type": "stream",
     "text": [
      "              beta          std\n",
      "count  1000.000000  1000.000000\n",
      "mean      0.992424     0.119861\n",
      "std       0.123841     0.026790\n",
      "min       0.459081     0.071280\n",
      "25%       0.918179     0.101986\n",
      "50%       0.998599     0.115069\n",
      "75%       1.079660     0.131824\n",
      "max       1.400490     0.272595\n"
     ]
    }
   ],
   "source": [
    "print(IV_results.describe())"
   ]
  },
  {
   "cell_type": "markdown",
   "id": "e86b14dd",
   "metadata": {},
   "source": [
    "Now we have a consistent estimator, since the requirements of the IV (exclusion restriction and relevance) are met in our data generating process:\n",
    "\n",
    "(a) $z_1$ is independent from the error terms\n",
    "\n",
    "(b) $z_1$ is correlated with $x$ in ($\\star\\star$) above"
   ]
  },
  {
   "cell_type": "markdown",
   "id": "92aee1c7",
   "metadata": {},
   "source": [
    "## (c)"
   ]
  },
  {
   "cell_type": "code",
   "execution_count": 17,
   "id": "a72396a9",
   "metadata": {},
   "outputs": [
    {
     "name": "stdout",
     "output_type": "stream",
     "text": [
      "              beta          std\n",
      "count  1000.000000  1000.000000\n",
      "mean      0.999085     0.082238\n",
      "std       0.084742     0.011790\n",
      "min       0.664661     0.054848\n",
      "25%       0.946159     0.073950\n",
      "50%       1.001180     0.081234\n",
      "75%       1.054697     0.089092\n",
      "max       1.252271     0.132057\n"
     ]
    }
   ],
   "source": [
    "print(_2SLS_results.describe())"
   ]
  },
  {
   "cell_type": "markdown",
   "id": "27921f58",
   "metadata": {},
   "source": [
    "Indeed, our estimator remains consistent since the same reasoning pointed out above also extends to $z_2$."
   ]
  },
  {
   "cell_type": "markdown",
   "id": "278c02ea",
   "metadata": {},
   "source": [
    "However, it is clear that the standard deviations of the $\\hat \\beta_{1,2SLS}$ are usually below the ones from $\\hat \\beta_{1,IV}$. This can be seen by comparing the means or the quantiles between these series of estimated standard errors."
   ]
  },
  {
   "cell_type": "markdown",
   "id": "014ad640",
   "metadata": {},
   "source": [
    "The intuition can be seen from Question 2:"
   ]
  },
  {
   "cell_type": "markdown",
   "id": "905bac48",
   "metadata": {},
   "source": [
    "$$avar(b_{IV}) = \\frac{2}{\\alpha_1^2}$$"
   ]
  },
  {
   "cell_type": "markdown",
   "id": "07746106",
   "metadata": {},
   "source": [
    "$$avar(b_{2SLS}) = \\frac{2}{\\alpha_1^2+\\alpha_2^2}$$"
   ]
  },
  {
   "cell_type": "markdown",
   "id": "3e93e19b",
   "metadata": {},
   "source": [
    "In our case, $\\alpha_2>0$ (i.e., the new instrument is relevant) and intuitively the additional instrument is able to generate additional variation in $x$ which can make the parameters estimations more precise."
   ]
  },
  {
   "cell_type": "markdown",
   "id": "013e3580",
   "metadata": {},
   "source": [
    "## (d)"
   ]
  },
  {
   "cell_type": "code",
   "execution_count": 18,
   "id": "c46cbefe",
   "metadata": {},
   "outputs": [],
   "source": [
    "def gen_data(alpha_1, alpha_2, beta_0, beta_1):\n",
    "    # Generating the random variables\n",
    "    v_1 = norm.rvs(size  = 150)\n",
    "    v_2 = norm.rvs(size  = 150)\n",
    "    v_3 = norm.rvs(size  = 150)\n",
    "    z_1 = norm.rvs(size  = 150)\n",
    "    z_2 = norm.rvs(size  = 150)\n",
    "    z_3 = norm.rvs(size  = 150)\n",
    "    x = [alpha_1*z_1[i]+alpha_2*z_2[i]+v_1[i]+v_3[i] for i in range(150)]\n",
    "    y = [beta_0+beta_1*x[i]+v_1[i]+v_2[i] for i in range(150)]\n",
    "    data = pd.DataFrame({'y': y, 'x': x, 'z_1':z_1, 'z_2':z_2, 'z_3':z_3})\n",
    "    data = add_constant(data, has_constant='add')\n",
    "    return data"
   ]
  },
  {
   "cell_type": "code",
   "execution_count": 19,
   "id": "3356c630",
   "metadata": {},
   "outputs": [],
   "source": [
    "def it_regressions(print_option = False):\n",
    "    data = gen_data(alpha_1, alpha_2, beta_0, beta_1)\n",
    "    # OLS:\n",
    "    res_ols = IV2SLS(data.y, data[['const','x']], None, None).fit(cov_type='unadjusted')\n",
    "    # IV:\n",
    "    res_iv = IV2SLS(data.y, data[['const']], data.x, data.z_1).fit(cov_type='unadjusted')\n",
    "    # 2SLS\n",
    "    res_2sls = IV2SLS(data.y, data[['const']], data.x, data[['z_1', 'z_2','z_3']]).fit(cov_type='unadjusted')\n",
    "    if print_option == True:\n",
    "        from linearmodels.iv import compare\n",
    "        print(compare({'OLS':res_ols, 'IV':res_iv, '2SLS': res_2sls}))\n",
    "    return {'ols': [res_ols.params['x'], res_ols.std_errors['x']],\n",
    "           'iv':[res_iv.params['x'], res_iv.std_errors['x']],\n",
    "           '2sls':[res_2sls.params['x'], res_2sls.std_errors['x']]}"
   ]
  },
  {
   "cell_type": "code",
   "execution_count": 20,
   "id": "5e0e5fda",
   "metadata": {},
   "outputs": [],
   "source": [
    "def simulations(iter = 1000):\n",
    "    keys = ['ols', 'iv', '2sls']\n",
    "    acc_dict = {key: {'beta':[], 'std': []} for key in keys}\n",
    "    for sim in range(iter):\n",
    "        if sim%100==0:\n",
    "            print(str(round(sim/iter,4)*100)+\"%\")\n",
    "        iter_dict = it_regressions()\n",
    "        for key in acc_dict.keys():\n",
    "            acc_dict[key]['beta'].append(iter_dict[key][0])\n",
    "            acc_dict[key]['std'].append(iter_dict[key][1])\n",
    "    print(\"Simulations concluded\")\n",
    "    return acc_dict"
   ]
  },
  {
   "cell_type": "code",
   "execution_count": 21,
   "id": "55b840d7",
   "metadata": {},
   "outputs": [
    {
     "name": "stdout",
     "output_type": "stream",
     "text": [
      "0.0%\n",
      "10.0%\n",
      "20.0%\n",
      "30.0%\n",
      "40.0%\n",
      "50.0%\n",
      "60.0%\n",
      "70.0%\n",
      "80.0%\n",
      "90.0%\n",
      "Simulations concluded\n"
     ]
    }
   ],
   "source": [
    "results = simulations()"
   ]
  },
  {
   "cell_type": "code",
   "execution_count": 22,
   "id": "f3802e66",
   "metadata": {},
   "outputs": [
    {
     "name": "stdout",
     "output_type": "stream",
     "text": [
      "----------------------------------------\n",
      "ols\n",
      "              beta          std\n",
      "count  1000.000000  1000.000000\n",
      "mean      1.249432     0.054279\n",
      "std       0.057539     0.004341\n",
      "min       1.070036     0.042397\n",
      "25%       1.210419     0.051352\n",
      "50%       1.249372     0.053899\n",
      "75%       1.287496     0.057092\n",
      "max       1.421541     0.069206\n",
      "----------------------------------------\n",
      "iv\n",
      "              beta          std\n",
      "count  1000.000000  1000.000000\n",
      "mean      0.988480     0.120903\n",
      "std       0.122933     0.027501\n",
      "min       0.471665     0.069501\n",
      "25%       0.919536     0.102621\n",
      "50%       0.990401     0.115975\n",
      "75%       1.069891     0.131879\n",
      "max       1.320289     0.278689\n",
      "----------------------------------------\n",
      "2sls\n",
      "              beta          std\n",
      "count  1000.000000  1000.000000\n",
      "mean      0.999598     0.082474\n",
      "std       0.083404     0.011766\n",
      "min       0.696109     0.055499\n",
      "25%       0.944748     0.074492\n",
      "50%       1.001083     0.080657\n",
      "75%       1.057203     0.089344\n",
      "max       1.256785     0.149089\n"
     ]
    }
   ],
   "source": [
    "for estimator in results.keys():\n",
    "    print(\"-\"*40)\n",
    "    print(estimator)\n",
    "    print(pd.DataFrame(results[estimator]).describe())"
   ]
  },
  {
   "cell_type": "markdown",
   "id": "f4b0ba0e",
   "metadata": {},
   "source": [
    "The estimator is still consistent, but this additional instrument does not help us estimating the parameter more precisely."
   ]
  },
  {
   "cell_type": "markdown",
   "id": "4ac982a5",
   "metadata": {},
   "source": [
    "The standard errors even increase a little in this new simulations."
   ]
  },
  {
   "cell_type": "markdown",
   "id": "b9d1148c",
   "metadata": {},
   "source": [
    "## (e)"
   ]
  },
  {
   "cell_type": "code",
   "execution_count": 23,
   "id": "5f175526",
   "metadata": {},
   "outputs": [],
   "source": [
    "def gen_data(alpha_1, alpha_2, beta_0, beta_1):\n",
    "    # Generating the random variables\n",
    "    v_1 = norm.rvs(size  = 150)\n",
    "    v_2 = norm.rvs(size  = 150)\n",
    "    v_3 = norm.rvs(size  = 150)\n",
    "    z_1 = norm.rvs(size  = 150)\n",
    "    z_2 = norm.rvs(size  = 150)\n",
    "    other_z = pd.DataFrame({'z_'+str(i):norm.rvs(size  = 150) for i in range(3,101)})\n",
    "    x = [alpha_1*z_1[i]+alpha_2*z_2[i]+v_1[i]+v_3[i] for i in range(150)]\n",
    "    y = [beta_0+beta_1*x[i]+v_1[i]+v_2[i] for i in range(150)]\n",
    "    data = pd.DataFrame({'y': y, 'x': x, 'z_1':z_1, 'z_2':z_2})\n",
    "    data = data.join(other_z)\n",
    "    data = add_constant(data, has_constant='add')\n",
    "    return data"
   ]
  },
  {
   "cell_type": "code",
   "execution_count": 24,
   "id": "9d25cd47",
   "metadata": {},
   "outputs": [],
   "source": [
    "test = gen_data(alpha_1, alpha_2, beta_0, beta_1)"
   ]
  },
  {
   "cell_type": "code",
   "execution_count": 25,
   "id": "d1582f7b",
   "metadata": {},
   "outputs": [
    {
     "name": "stdout",
     "output_type": "stream",
     "text": [
      "   const         y         x       z_1       z_2       z_3       z_4  \\\n",
      "0    1.0  2.070115 -0.102900 -1.332998 -0.566858  0.966553  0.041900   \n",
      "1    1.0 -0.163841 -1.250282 -0.563433 -0.181638 -1.959610 -1.678629   \n",
      "2    1.0  1.511346  2.154200  0.975835  2.094416 -0.184394 -0.469107   \n",
      "3    1.0  1.069384 -0.655164  0.447784 -0.381732 -0.752271 -1.145978   \n",
      "4    1.0  1.060326 -0.081630  0.162976  0.416039 -0.809499  0.341487   \n",
      "\n",
      "        z_5       z_6       z_7  ...      z_91      z_92      z_93      z_94  \\\n",
      "0  0.478268 -0.705309  1.734401  ...  0.680112 -0.160665  0.780403 -2.293902   \n",
      "1 -0.480815  0.437968  0.048819  ...  1.804439  0.633229  0.981908 -0.359420   \n",
      "2  0.538738 -0.509485  0.610107  ...  0.758649 -0.900574  0.689164  2.615189   \n",
      "3  0.118106 -0.711665  0.096846  ... -0.469215 -0.084037 -0.214436  0.403984   \n",
      "4  1.302709 -1.713554  2.240830  ... -0.842022  1.653039 -1.106431 -0.909485   \n",
      "\n",
      "       z_95      z_96      z_97      z_98      z_99     z_100  \n",
      "0  1.272774 -1.356407  0.279602  0.626791 -0.019180 -0.008786  \n",
      "1 -1.060125 -0.240881 -0.812378  0.002240  0.563144 -0.235335  \n",
      "2  0.724754 -1.136794 -1.322956 -0.421617 -0.693231 -0.127215  \n",
      "3 -1.242631 -1.691413  2.388321 -2.393616  0.043441 -0.276778  \n",
      "4  2.043836  1.685569 -2.067031  2.511771  0.807782 -0.896513  \n",
      "\n",
      "[5 rows x 103 columns]\n"
     ]
    }
   ],
   "source": [
    "print(test.head())"
   ]
  },
  {
   "cell_type": "code",
   "execution_count": 26,
   "id": "60ec2416",
   "metadata": {},
   "outputs": [],
   "source": [
    "def it_regressions(print_option = False):\n",
    "    data = gen_data(alpha_1, alpha_2, beta_0, beta_1)\n",
    "    instruments = data.drop(columns = {'const', 'x', 'y'})\n",
    "    # OLS:\n",
    "    res_ols = IV2SLS(data.y, data[['const','x']], None, None).fit(cov_type='unadjusted')\n",
    "    # IV:\n",
    "    res_iv = IV2SLS(data.y, data[['const']], data.x, data.z_1).fit(cov_type='unadjusted')\n",
    "    # 2SLS\n",
    "    res_2sls = IV2SLS(data.y, data[['const']], data.x, instruments).fit(cov_type='unadjusted')\n",
    "    if print_option == True:\n",
    "        from linearmodels.iv import compare\n",
    "        print(compare({'OLS':res_ols, 'IV':res_iv, '2SLS': res_2sls}))\n",
    "    return {'ols': [res_ols.params['x'], res_ols.std_errors['x']],\n",
    "           'iv':[res_iv.params['x'], res_iv.std_errors['x']],\n",
    "           '2sls':[res_2sls.params['x'], res_2sls.std_errors['x']]}"
   ]
  },
  {
   "cell_type": "code",
   "execution_count": 27,
   "id": "237770cc",
   "metadata": {},
   "outputs": [
    {
     "data": {
      "text/plain": [
       "{'ols': [1.2902590822860855, 0.04759213265505585],\n",
       " 'iv': [1.2583450843677222, 0.09742983707928406],\n",
       " '2sls': [1.2446239777465773, 0.05124662828380647]}"
      ]
     },
     "execution_count": 27,
     "metadata": {},
     "output_type": "execute_result"
    }
   ],
   "source": [
    "it_regressions(print_option = False)"
   ]
  },
  {
   "cell_type": "code",
   "execution_count": 28,
   "id": "7af6743a",
   "metadata": {},
   "outputs": [],
   "source": [
    "def simulations(iter = 1000):\n",
    "    keys = ['ols', 'iv', '2sls']\n",
    "    acc_dict = {key: {'beta':[], 'std': []} for key in keys}\n",
    "    for sim in range(iter):\n",
    "        if sim%100==0:\n",
    "            print(str(round(sim/iter,4)*100)+\"%\")\n",
    "        iter_dict = it_regressions()\n",
    "        for key in acc_dict.keys():\n",
    "            acc_dict[key]['beta'].append(iter_dict[key][0])\n",
    "            acc_dict[key]['std'].append(iter_dict[key][1])\n",
    "    print(\"Simulations concluded\")\n",
    "    return acc_dict"
   ]
  },
  {
   "cell_type": "code",
   "execution_count": 29,
   "id": "079fc1bc",
   "metadata": {},
   "outputs": [
    {
     "name": "stdout",
     "output_type": "stream",
     "text": [
      "0.0%\n",
      "10.0%\n",
      "20.0%\n",
      "30.0%\n",
      "40.0%\n",
      "50.0%\n",
      "60.0%\n",
      "70.0%\n",
      "80.0%\n",
      "90.0%\n",
      "Simulations concluded\n"
     ]
    }
   ],
   "source": [
    "results = simulations()"
   ]
  },
  {
   "cell_type": "code",
   "execution_count": 30,
   "id": "5729020d",
   "metadata": {},
   "outputs": [
    {
     "name": "stdout",
     "output_type": "stream",
     "text": [
      "----------------------------------------\n",
      "ols\n",
      "              beta          std\n",
      "count  1000.000000  1000.000000\n",
      "mean      1.245323     0.053926\n",
      "std       0.054824     0.004248\n",
      "min       1.069513     0.041278\n",
      "25%       1.206436     0.050987\n",
      "50%       1.246670     0.053863\n",
      "75%       1.282856     0.056807\n",
      "max       1.421047     0.068196\n",
      "----------------------------------------\n",
      "iv\n",
      "              beta          std\n",
      "count  1000.000000  1000.000000\n",
      "mean      0.984702     0.119802\n",
      "std       0.118765     0.025882\n",
      "min       0.509409     0.068786\n",
      "25%       0.911559     0.102565\n",
      "50%       0.992809     0.115273\n",
      "75%       1.063965     0.133618\n",
      "max       1.344570     0.302378\n",
      "----------------------------------------\n",
      "2sls\n",
      "              beta          std\n",
      "count  1000.000000  1000.000000\n",
      "mean      1.195578     0.059284\n",
      "std       0.058678     0.005128\n",
      "min       1.031438     0.044797\n",
      "25%       1.155057     0.055681\n",
      "50%       1.196447     0.059056\n",
      "75%       1.234915     0.062622\n",
      "max       1.394515     0.077079\n"
     ]
    }
   ],
   "source": [
    "for estimator in results.keys():\n",
    "    print(\"-\"*40)\n",
    "    print(estimator)\n",
    "    print(pd.DataFrame(results[estimator]).describe())"
   ]
  },
  {
   "cell_type": "markdown",
   "id": "2d338768",
   "metadata": {},
   "source": [
    "The estimators for $\\hat \\beta_{1,2SLS}$ seem to diverge from the true value in mean and in distribution. For example, the 25% quantile is at $1.16$. The estimations precision did not change much, as we would expect: adding irrelevant estimators does not help reducing the variance."
   ]
  }
 ],
 "metadata": {
  "kernelspec": {
   "display_name": "Python 3",
   "language": "python",
   "name": "python3"
  },
  "language_info": {
   "codemirror_mode": {
    "name": "ipython",
    "version": 3
   },
   "file_extension": ".py",
   "mimetype": "text/x-python",
   "name": "python",
   "nbconvert_exporter": "python",
   "pygments_lexer": "ipython3",
   "version": "3.8.8"
  }
 },
 "nbformat": 4,
 "nbformat_minor": 5
}
